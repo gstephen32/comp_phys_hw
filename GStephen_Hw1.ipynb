{
 "cells": [
  {
   "cell_type": "markdown",
   "metadata": {},
   "source": [
    "Scattering by a central potential\n",
    "---------------------------------\n",
    "\n",
    "In this section, we will investigate the classical scattering of a\n",
    "particle of mass $m$ by a central potential. In a scattering event, the\n",
    "particle, with initial kinetic energy $E$ and impact parameter $b$\n",
    "approaches the potential from a large distance. It is deflected during\n",
    "its passage near the force center and eventually emerges with the same\n",
    "energy, but moving at an angle $\\Theta$ with respect to the original\n",
    "direction. This problem is very similar in many aspects to the orbital\n",
    "motion, but in this case the potential is repulsive, and it is not\n",
    "necessarily a function of the inverse square of the distance. The energy\n",
    "and momentum are conserved, and the trajectory lies in the plane.\n",
    "\n",
    "Our basic interest is on the deflection function $\\Theta (b)$, giving\n",
    "the final scattering angle $\\Theta$ as a function of the impact\n",
    "parameter. This function also depends upon the incident energy. The\n",
    "differential cross section for scattering at an angle $\\Theta$,\n",
    "$d\\sigma \n",
    "/ d\\Omega$ is an experimental observable that is related to the\n",
    "deflection function by\n",
    "\n",
    "$$\\frac{d\\sigma}{d\\Omega}=\\frac{b}{\\sin{\\Theta}}\\left|\\frac{db}{d\\Theta}\\right|.\n",
    "$$\n",
    "\n",
    "Thus, if $d\\Theta /db$ can be computed, the cross section is known.\n",
    "\n",
    "Expressions for the deflection function can be found analytically only\n",
    "for a few potentials, so that numerical methods usually must be\n",
    "employed. There are some simplification that can me made using the fact\n",
    "that the angular momentum is conserved, which connects the angular and\n",
    "the radial motion, making the problem one-dimensional. However, in this\n",
    "section we are going to use the tools learned in the previous sections,\n",
    "and solve the four first-order differential equations for the two\n",
    "coordinates and their velocities in the $xy$ plane.\n",
    "\n",
    "![scattering](figures/scattering.png)\n",
    "#### Quantities involved in the scattering of a particle by a central potential.\n",
    "\n",
    "In the following we are going to consider a Lennard-Jones potential:\n",
    "$$V(r)=4V_0[(\\frac{a}{r})^{12}-(\\frac{a}{r})^6],\n",
    "$$ The potential is attractive for long distances, and\n",
    "strongly repulsive approaching the core (see Fig. \\[lennard-jones\\]),\n",
    "with a minimum occurring at $r_{min}=2^{(1/6)}a$ with a depth $V_0$.\n",
    "\n",
    "![lennard](figures/lennard.png)\n",
    "#### The Lennard-Jones potential\n",
    "\n",
    "### Exercise 2.3 \n",
    "\n",
    "1.  Before beginning any numerical computation, it is important to have\n",
    "    some idea of what the results should look like. Sketch what you\n",
    "    think the deflection function should look like at relatively low\n",
    "    energies, $E \\leq V_0$, where the the peripheral collisions at large\n",
    "    $b\\leq \n",
    "    r_{max}$ will take place in a predominantly attractive potential and\n",
    "    the more central collisions will “bounce” against the\n",
    "    repulsive core. What happens at much higher energies $E\\gg V_0$,\n",
    "    where the attractive pocket in $V$ can be neglected? Note that the\n",
    "    values of $b$ where the deflection function has a maximum or a\n",
    "    minimum, Eq. (\\[cross\\]) shows that the cross section should be\n",
    "    infinite,as occurs in the rainbow formed when light scatters from\n",
    "    water drops.\n",
    "\n",
    "2.  Write a program that calculates, for a given kinetic energy $E$, the\n",
    "    deflection function solving the equations of motion at a number of\n",
    "    equally spaced $b$ values between 0 and $r_{max}$.\n",
    "\n",
    "3.  Use your program to calculate the deflection function for scattering\n",
    "    from a Lennard-Jones potential at selected values of $E$ ranging\n",
    "    from $0.1V_0$ to $100V_0$. Reconcile your answers in step 1) with\n",
    "    the results obtained. Calculate the differential cross sections a\n",
    "    function of $\\Theta$ at these energies.\n",
    "\n",
    "4.  If your program is working correctly you should observe for energies\n",
    "    $E\\leq V_0$ a singularity in the deflection function where $\\Theta$\n",
    "    appear to approach $-\\infty$ at some critical value of $b$,\n",
    "    $b_{crit}$, that depends on $E$. This singularity, which disappears\n",
    "    when $E$ becomes larger that about $V_0$ is characteristic of\n",
    "    “orbiting”, and the scattering angle becomes\n",
    "    logarithmically infinite. What happens is that the particle spends a\n",
    "    very long time spiralling around the center. Calculate some\n",
    "    trajectories around this point and convince yourself that this is\n",
    "    precisely what’s happening. Determine the maximum energy for which\n",
    "    the Lennard-Jones potential exhibits orbiting by solving the correct\n",
    "    set of equations involving $V$ and its derivatives.\n",
    "\n",
    "<!--\n",
    "Trajectories in phase space and integrability\n",
    "---------------------------------------------\n",
    "\n",
    "Let’s “complicate” things a little bit. We know that all the problems\n",
    "described above can be expressed elegantly using the Hamiltonian\n",
    "formalism. Let us consider a particle of mass $m$ moving in a potential\n",
    "$V$ in two dimensions ans assume that $V$ is such that the particle\n",
    "remains confined if the energy is low enough. The momenta conjugate to\n",
    "the two coordinates $(x,y)$ area $(p_x,p_y)$. The Hamiltonian (the\n",
    "energy!) takes the form $$H=\\frac{1}{2}(p_x^2+p_y^2)+V(x,y).\n",
    "$$ Given any particular initial values of the coordinates\n",
    "and momenta, the particle’s trajectory is specifies by their time\n",
    "evolution, that is governed by four first-order differential equations\n",
    "(Hamilton’s equations): $$\\begin{eqnarray}\n",
    "\\frac{dx}{dt} = \\frac{\\partial H}{\\partial \n",
    "p_x} = p_x &,& \\frac{dy}{dt} = \\frac{\\partial H}{\\partial p_y}=p_y; \\\\\n",
    "\\frac{dp_x}{dt}=-\\frac{\\partial H}{\\partial x} = -\\frac{\\partial \n",
    "V}{\\partial x} &,&\n",
    "\\frac{dp_y}{dt}=-\\frac{\\partial H}{\\partial y} = -\\frac{\\partial \n",
    "V}{\\partial y}.\\end{eqnarray}$$ For any $V$, these equations conserve the\n",
    "energy $E$ so that the constraint $$H(x,y,p_x,p_y,t)=E$$ restricts the\n",
    "trajectory to a three-dimensional manifold embedded in the four\n",
    "dimensional phase space.\n",
    "\n",
    "The Hamiltonian is said to be “integrable” when there is a second\n",
    "function of the coordinates and momenta that is also a constant of\n",
    "motion; the motion is thus constrained to a two-dimensional manifold in\n",
    "phase space. Two familiar kinds of integrable systems are\n",
    "<span>*separable*</span> and <span>*central*</span> potentials.\n",
    "\n",
    "In the separable case $$V(x,y)=V_x(x)+V_y(y)$$ where $V_{x,y}$ are\n",
    "independent functions of only one variable, so that the Hamiltonian\n",
    "separates in two parts and each coordinate can be solved independently,\n",
    "$$H=H_x+H_y; H_{x,y}=\\frac{1}{2}p_{x,y}^2+V_{x,y}.$$ The motions of $x$\n",
    "and $y$ are therefore decoupled form each other and each of the\n",
    "Hamiltonians is separately a constant of motion.\n",
    "\n",
    "In the case of a central potential, $$V(x,y)=V(r); r=\\sqrt{x^2+y^2},$$\n",
    "so that the angular momentum $L_z=xp_y-yp_x$ is the second constant of\n",
    "motion and the Hamiltonian can be written as\n",
    "$$H=\\frac{1}{2}p_r^2+V(r)+\\frac{p_{\\theta}^2}{2r^2}.$$ where $p_r$ is\n",
    "the momentum conjugate to $r$. The additional constraint on the\n",
    "trajectory makes the system tractable reducing the problem to les\n",
    "variables. All the familiar analytically soluble problems in classical\n",
    "mechanics are those that are integrable. An analysis of phase space\n",
    "suggests a way to detect integrability. Consider for instance the case\n",
    "of a separable potential, Because the motions of each of the two\n",
    "coordinates are independent, plots of the trajectory in $(x,p_x)$ and\n",
    "$(y,p_y)$ planes should look as in Fig.\\[trajectory\\]. Here, we assumed\n",
    "that each potential has a minimum value of 0 at particular values of $x$\n",
    "and $y$ respectively. The particle moves on a closed contour in each of\n",
    "these two-dimensional projections of the four-dimensional phase space,\n",
    "each of them looking as a on-dimensional motion. The areas of these\n",
    "contours is associated to the total energy ($E_x$ and $E_y$). Since the\n",
    "total energy must be conserved, as one varies the initial conditions,\n",
    "one contour shrinks, and the other grows. In each plane there is a\n",
    "limiting contour that is approached when all the energy is in one\n",
    "coordinate. The fact that these contours are closed signals the\n",
    "integrability of the system.\n",
    "\n",
    "How can we obtain this information from the trajectory alone? Supouse\n",
    "that at every time we observe one of the coordinates, say $x$, pass\n",
    "through zero, we plot the location of the particle in the $(y,p_y)$\n",
    "plane. If the periods of the $x$ and $y$ motions are incommensurate\n",
    "(<span>*i.e.*</span> their ratio is an irrational number), then, as the\n",
    "trajectory proceeds, these observations will trace out the full\n",
    "$(y,p_y)$ contour; if the periods are commensurate (<span>*i.e.*</span>\n",
    "a rational ratio), then a series of discrete points around the contour\n",
    "will result.\n",
    "-->\n",
    "\n",
    "\n",
    "\n"
   ]
  },
  {
   "cell_type": "code",
   "execution_count": 16,
   "metadata": {
    "collapsed": false
   },
   "outputs": [],
   "source": [
    "%matplotlib inline\n",
    "import numpy as np\n",
    "from matplotlib import pyplot\n",
    "from matplotlib.colors import ColorConverter as cc\n",
    "import math\n",
    "\n",
    "class particle2(object):\n",
    "    \n",
    "    #initialize particle with initail positiojn, velocity and acceleration\n",
    "    def __init__(self, mass=1., x=0., y=0., vx=0., vy=0., ax=0., ay=0.):\n",
    "        self.mass = mass \n",
    "        self.x = x\n",
    "        self.y = y\n",
    "        self.vx = vx\n",
    "        self.vy = vy\n",
    "        self.ax = ax\n",
    "        self.ay = ay\n",
    "        self.get_acc()\n",
    "        \n",
    "    #solve equations of motion using euler's method   \n",
    "    def euler(self,dt):\n",
    "        self.vx = self.vx + self.ax*dt\n",
    "        self.vy = self.vy + self.ay*dt\n",
    "        self.x = self.x + self.vx*dt\n",
    "        self.y = self.y + self.vy*dt\n",
    "        self.get_acc() \n",
    "    \n",
    "    def get_acc(self):  #Get acceleration for particle at its current position and velocity\n",
    "        V0=1.\n",
    "        r = math.sqrt(self.x*self.x+self.y*self.y)\n",
    "        self.ax = -24*V0*(r**-7-2*r**-13)*(self.x/r)\n",
    "        self.ay = -24*V0*(r**-7-2*r**-13)*(self.y/r)\n",
    "        self.ax /= self.mass\n",
    "        self.ay /= self.mass\n",
    "        \n",
    "    def verlet(self, dt): #solves equations of motion using the verlet method\n",
    "        self.x += self.vx*dt + 0.5*self.ax*dt*dt\n",
    "        self.y += self.vy*dt + 0.5*self.ay*dt*dt\n",
    "        self.vx += 0.5*self.ax*dt\n",
    "        self.vy += 0.5*self.ay*dt\n",
    "        self.get_acc() # after I move to the new position\n",
    "        self.vx += 0.5*self.ax*dt\n",
    "        self.vy += 0.5*self.ay*dt     "
   ]
  },
  {
   "cell_type": "code",
   "execution_count": 17,
   "metadata": {
    "collapsed": false
   },
   "outputs": [],
   "source": [
    "def deflect(E,b, plot=0):\n",
    "#returns deflection angle for a given impact parameter b    \n",
    "#Energies in units of V0\n",
    "#radii in units of a\n",
    "    \n",
    "    dt=0.01\n",
    "    tmax=20\n",
    "    nsteps = int(tmax/dt)\n",
    "    \n",
    "    x = np.zeros(nsteps)\n",
    "    y = np.zeros(nsteps)\n",
    "    theta = np.zeros(len(b))\n",
    "    \n",
    "    \n",
    "    for j in range(len(b)):\n",
    "        m = 1.\n",
    "        x0 = -10.\n",
    "        y0 = b[j]\n",
    "        vx0 = math.sqrt(2.*E/m)\n",
    "        vy0 = 0.\n",
    "        p=particle2( m, x0, y0, vx0, vy0, 0 ,0)\n",
    "        for i in range(0,nsteps):\n",
    "            p.verlet(dt)\n",
    "            x[i] = p.x\n",
    "            y[i] = p.y\n",
    "            \n",
    "        theta[j]=math.degrees(math.atan2((y[-1]),(x[-1])) ) \n",
    "        if plot==1:\n",
    "            pyplot.figure()\n",
    "            pyplot.plot(x, y, color='blue', ls='-', lw=3, label='Planet 1')\n",
    "    \n",
    "    return theta"
   ]
  },
  {
   "cell_type": "code",
   "execution_count": 26,
   "metadata": {
    "collapsed": false
   },
   "outputs": [
    {
     "data": {
      "text/plain": [
       "<matplotlib.legend.Legend at 0xd291828>"
      ]
     },
     "execution_count": 26,
     "metadata": {},
     "output_type": "execute_result"
    },
    {
     "data": {
      "image/png": "[encoded data removed]",
      "text/plain": [
       "<matplotlib.figure.Figure at 0xa93fb38>"
      ]
     },
     "metadata": {},
     "output_type": "display_data"
    },
    {
     "data": {
      "image/png": "[encoded data removed]",
      "text/plain": [
       "<matplotlib.figure.Figure at 0xa561208>"
      ]
     },
     "metadata": {},
     "output_type": "display_data"
    },
    {
     "data": {
      "image/png": "[encoded data removed]",
      "text/plain": [
       "<matplotlib.figure.Figure at 0xc0cff28>"
      ]
     },
     "metadata": {},
     "output_type": "display_data"
    },
    {
     "data": {
      "image/png": "[encoded data removed]",
      "text/plain": [
       "<matplotlib.figure.Figure at 0xd291390>"
      ]
     },
     "metadata": {},
     "output_type": "display_data"
    }
   ],
   "source": [
    "rmax=10\n",
    "bsteps= 100\n",
    "b=np.linspace(0.0000001, rmax, bsteps)\n",
    "\n",
    "\n",
    "theta=deflect(0.1, b)\n",
    "pyplot.figure()\n",
    "pyplot.plot(b, theta, color='blue', ls='-', lw=3, label='E=0.1*V0')\n",
    "pyplot.ylabel('theta')\n",
    "pyplot.xlabel('b')\n",
    "pyplot.legend()\n",
    "\n",
    "theta=deflect(1, b)\n",
    "pyplot.figure()\n",
    "pyplot.plot(b, theta, color='green', ls='-', lw=3, label='E=1*V0')\n",
    "pyplot.ylabel('theta')\n",
    "pyplot.xlabel('b')\n",
    "pyplot.legend()\n",
    "\n",
    "theta=deflect(10, b)\n",
    "pyplot.figure()\n",
    "pyplot.plot(b, theta, color='red', ls='-', lw=3, label='E=10*V0')\n",
    "pyplot.ylabel('theta')\n",
    "pyplot.xlabel('b')\n",
    "pyplot.legend()\n",
    "\n",
    "theta=deflect(100, b)\n",
    "pyplot.figure()\n",
    "pyplot.plot(b, theta, color='cyan', ls='-', lw=3, label='E=100*V0')\n",
    "pyplot.ylabel('theta')\n",
    "pyplot.xlabel('b')\n",
    "pyplot.legend()\n",
    "\n",
    "#For B above about 2*a, the deflection angle is 0 for\n",
    "#all E between 0.1*V0 and 100*V0.\n",
    "#As E increases the width of the scattering decreases. \n",
    "#For E=100*V0 The scattering angle goes to zero above b=a"
   ]
  },
  {
   "cell_type": "code",
   "execution_count": null,
   "metadata": {
    "collapsed": false
   },
   "outputs": [],
   "source": []
  },
  {
   "cell_type": "code",
   "execution_count": 31,
   "metadata": {
    "collapsed": true
   },
   "outputs": [],
   "source": [
    "def cross_section(E):\n",
    "    rmax=10\n",
    "    bsteps= 50\n",
    "    b=np.linspace(0.00001, rmax, bsteps)\n",
    "    theta=deflect(E,b)\n",
    "    dsigma=np.zeros(bsteps-1)\n",
    "    \n",
    "    for ii in range(0, len(theta)-1):\n",
    "        db=(b[ii+1]-b[ii])/(theta[ii+1]-theta[ii])\n",
    "        dsigma[ii]=b[ii]/math.sin(theta[ii])*abs(db)\n",
    "\n",
    "    pyplot.figure()\n",
    "    pyplot.plot(theta[1:],dsigma)\n",
    "    \n",
    "    return [dsigma,theta[1:]]"
   ]
  },
  {
   "cell_type": "code",
   "execution_count": 23,
   "metadata": {
    "collapsed": false,
    "scrolled": true
   },
   "outputs": [
    {
     "data": {
      "text/plain": [
       "<matplotlib.text.Text at 0xb911240>"
      ]
     },
     "execution_count": 23,
     "metadata": {},
     "output_type": "execute_result"
    },
    {
     "data": {
      "image/png": "[encoded data removed]",
      "text/plain": [
       "<matplotlib.figure.Figure at 0xc46d7b8>"
      ]
     },
     "metadata": {},
     "output_type": "display_data"
    }
   ],
   "source": [
    "#At a given b, \n",
    "E=np.linspace(0.1,10,100)\n",
    "b=[2]\n",
    "theta=np.zeros(len(E))\n",
    "for ii in range (0, len(E)):\n",
    "    x=deflect(E[ii], b,0)\n",
    "    theta[ii]=x[0]\n",
    "    \n",
    "pyplot.figure()\n",
    "pyplot.plot(E,theta)\n",
    "pyplot.ylabel('theta')\n",
    "pyplot.xlabel('energy')\n",
    "#As the initial energy increases for a given b, the deflection angle decreases, limiting to zero"
   ]
  },
  {
   "cell_type": "code",
   "execution_count": null,
   "metadata": {
    "collapsed": false
   },
   "outputs": [],
   "source": []
  },
  {
   "cell_type": "code",
   "execution_count": null,
   "metadata": {
    "collapsed": true
   },
   "outputs": [],
   "source": [
    "\n",
    "    "
   ]
  },
  {
   "cell_type": "code",
   "execution_count": null,
   "metadata": {
    "collapsed": false
   },
   "outputs": [],
   "source": []
  },
  {
   "cell_type": "code",
   "execution_count": null,
   "metadata": {
    "collapsed": true
   },
   "outputs": [],
   "source": []
  },
  {
   "cell_type": "code",
   "execution_count": null,
   "metadata": {
    "collapsed": true
   },
   "outputs": [],
   "source": []
  }
 ],
 "metadata": {
  "kernelspec": {
   "display_name": "Python 2",
   "language": "python",
   "name": "python2"
  },
  "language_info": {
   "codemirror_mode": {
    "name": "ipython",
    "version": 2
   },
   "file_extension": ".py",
   "mimetype": "text/x-python",
   "name": "python",
   "nbconvert_exporter": "python",
   "pygments_lexer": "ipython2",
   "version": "2.7.10"
  }
 },
 "nbformat": 4,
 "nbformat_minor": 0
}
